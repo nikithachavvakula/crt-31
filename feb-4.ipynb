{
 "cells": [
  {
   "cell_type": "code",
   "execution_count": 7,
   "id": "c9834821-2202-4478-a59a-ea3762a1f961",
   "metadata": {},
   "outputs": [
    {
     "name": "stdout",
     "output_type": "stream",
     "text": [
      "Requirement already satisfied: emot in /opt/anaconda3/lib/python3.12/site-packages (3.1)\n"
     ]
    }
   ],
   "source": [
    "!pip install emot"
   ]
  },
  {
   "cell_type": "code",
   "execution_count": 15,
   "id": "090d3faa-f0ca-4ccd-b777-bbd537de19e5",
   "metadata": {},
   "outputs": [],
   "source": [
    "#create sample text data with emoji\n",
    "\n",
    "text1 = \"What are you saying🤣 . I am the boss😎, and why are you so🥵 \""
   ]
  },
  {
   "cell_type": "code",
   "execution_count": 17,
   "id": "ede3d223-a635-4cbf-83f2-c58e2ec2b46d",
   "metadata": {},
   "outputs": [],
   "source": [
    "import re\n",
    "\n",
    "from emot.emo_unicode import UNICODE_EMOJI\n",
    "\n",
    "from emot.emo_unicode import EMOTICONS_EMO"
   ]
  },
  {
   "cell_type": "code",
   "execution_count": 33,
   "id": "d89aed23-4ed4-4660-b415-39357ced496e",
   "metadata": {},
   "outputs": [
    {
     "data": {
      "text/plain": [
       "'What are you sayingrolling_on_the_floor_laughing . I am the bosssmiling_face_with_sunglasses, and why are you sohot_face '"
      ]
     },
     "execution_count": 33,
     "metadata": {},
     "output_type": "execute_result"
    }
   ],
   "source": [
    "# Function for converting emojis into word\n",
    "\n",
    "def converting_emojis(text):\n",
    "\n",
    "    for emot in UNICODE_EMOJI:\n",
    "\n",
    "        text = text.replace(emot, \"_\".join(UNICODE_EMOJI[emot].replace(\",\",\"\")\\\n",
    "                                           .replace(\":\",\"\").split()))\n",
    "    return text\n",
    "converting_emojis(text1)"
   ]
  },
  {
   "cell_type": "code",
   "execution_count": 37,
   "id": "861e04b4-05fe-4cda-80ab-c73d281421e6",
   "metadata": {},
   "outputs": [
    {
     "data": {
      "text/plain": [
       "'What are you saying . I am the boss, and why are you so '"
      ]
     },
     "execution_count": 37,
     "metadata": {},
     "output_type": "execute_result"
    }
   ],
   "source": [
    "def emoji_removal(string):\n",
    "\n",
    "    emoji_unicodes = re.compile(\"[\"\n",
    "\n",
    "                               u\"\\U0001F600-\\U0001F64F\"  # emoticons\n",
    "\n",
    "                               u\"\\U0001F300-\\U0001F5FF\"  # symbols \n",
    "\n",
    "                               u\"\\U0001F680-\\U0001F6FF\"  # transport \n",
    "\n",
    "                               u\"\\U0001F1E0-\\U0001F1FF\"  # flags (iOS)\n",
    "\n",
    "                               u\"\\U00002500-\\U00002BEF\"  \n",
    "\n",
    "                               u\"\\U00002702-\\U000027B0\"\n",
    "\n",
    "                               u\"\\U000024C2-\\U0001F251\"\n",
    "\n",
    "                               u\"\\U0001f926-\\U0001f937\"\n",
    "\n",
    "                               u\"\\U00010000-\\U0010ffff\"\n",
    "                                \n",
    "                                u\"\\u2640-\\u2642\"\n",
    "\n",
    "                               u\"\\u2600-\\u2B55\"\n",
    "\n",
    "                               u\"\\u200d\"\n",
    "\n",
    "                               u\"\\u23cf\"\n",
    "\n",
    "                               u\"\\u23e9\"\n",
    "\n",
    "                               u\"\\u231a\"\n",
    "\n",
    "                               u\"\\ufe0f\"  \n",
    "\n",
    "                               u\"\\u3030\"\n",
    "\n",
    "                               \"]+\", flags=re.UNICODE)\n",
    "\n",
    "    return emoji_unicodes.sub(r'', string)\n",
    "\n",
    "emoji_removal(text1)"
   ]
  },
  {
   "cell_type": "code",
   "execution_count": null,
   "id": "a59d8e8d-1efe-42f1-a0ac-431baa4bcc35",
   "metadata": {},
   "outputs": [],
   "source": []
  },
  {
   "cell_type": "code",
   "execution_count": null,
   "id": "25b80ce6-09a6-4fe6-9acc-60a5ba2c4b47",
   "metadata": {},
   "outputs": [],
   "source": []
  }
 ],
 "metadata": {
  "kernelspec": {
   "display_name": "Python [conda env:base] *",
   "language": "python",
   "name": "conda-base-py"
  },
  "language_info": {
   "codemirror_mode": {
    "name": "ipython",
    "version": 3
   },
   "file_extension": ".py",
   "mimetype": "text/x-python",
   "name": "python",
   "nbconvert_exporter": "python",
   "pygments_lexer": "ipython3",
   "version": "3.12.7"
  }
 },
 "nbformat": 4,
 "nbformat_minor": 5
}
